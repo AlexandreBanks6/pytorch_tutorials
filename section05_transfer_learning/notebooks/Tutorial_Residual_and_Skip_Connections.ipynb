{
 "cells": [
  {
   "cell_type": "markdown",
   "metadata": {},
   "source": [
    "<h1>Residual and Skip Connections</h1>\n",
    "As we've seen up until now neural networks can learn a lot of interesting things! But much of the data has been of a very simple nature. In this lab we are going to try and train with data that is a bit more complicated, the CIFAR10 dataset. CIFAR10 images are much more complicated then MNIST images and even though they are only 3x32x32 they have about 4x as much data as MNIST! Now imagine using high resolution images!<br>\n",
    "So let's just bigger neural networks right? In general there are two ways we can increase the size of the neural networks we have seen up until now, by increasing the width (parameters per layer) and the depth (number of layers).<br>\n",
    "So which is better?<br>\n",
    "Well..... it's complicated<br>\n",
    "Via empirical studies it is easy to show that by increasing the model's width the network's performance on a validation set does increase, up until a point then the model with a huge number of parameters starts to overfit on the training set and performance on the validation set DECREASES never reaching even close to 100%. Instead it has been shown that increasing the DEPTH of our model is far more effective. The verdict is STILL out on why this is but theories include:<br>\n",
    "-Every layer performs independent \"operations\" (like steps in a program) more steps are better<br>\n",
    "-Information is \"distilled\" layer to layer so each layer receives a refined version of the input and so cannot overfit<br>\n",
    "-Adding a new layer creates more paths for the data to flow to the output then does adding more width\n",
    "\n",
    "So we'll just add more layers!! Well... it's not that simple\n",
    "\n",
    "![alt text](https://cdn-images-1.medium.com/max/1000/1*aqmUx_ONo8KqKNEYsjM8eA.png)\n",
    "\n",
    "[Why ResNets?](https://mc.ai/what-are-deep-residual-networks-or-why-resnets-are-important/)"
   ]
  },
  {
   "cell_type": "code",
   "execution_count": 1,
   "metadata": {},
   "outputs": [],
   "source": [
    "import torch\n",
    "import torch.nn as nn\n",
    "import torch.nn.functional as F\n",
    "import torch.optim as optim\n",
    "import torchvision\n",
    "import torchvision.transforms as transforms\n",
    "import torchvision.datasets as datasets\n",
    "from torch.utils.data import DataLoader as dataloader\n",
    "\n",
    "import os\n",
    "import random\n",
    "import numpy as np\n",
    "import time\n",
    "import matplotlib.pyplot as plt\n",
    "from tqdm.notebook import trange, tqdm\n",
    "\n",
    "from Trainer import ModelTrainer"
   ]
  },
  {
   "cell_type": "code",
   "execution_count": 2,
   "metadata": {},
   "outputs": [],
   "source": [
    "# The size of our mini batches\n",
    "batch_size = 256\n",
    "\n",
    "# How many iterations of our dataset\n",
    "num_epochs = 30\n",
    "\n",
    "# Optimizer learning rate\n",
    "learning_rate = 1e-4\n",
    "\n",
    "# Initialise best valid accuracy \n",
    "best_valid_acc = 0\n",
    "\n",
    "# Where to load/save the dataset from \n",
    "data_set_root = \"../../datasets\"\n"
   ]
  },
  {
   "cell_type": "code",
   "execution_count": null,
   "metadata": {},
   "outputs": [],
   "source": [
    "start_from_checkpoint = False\n",
    "save_dir = '../data/Models'\n",
    "\n",
    "model_name = 'Custom_ResNet_3' #We can load from this checkpoint and keep on training if we want to"
   ]
  },
  {
   "cell_type": "code",
   "execution_count": 4,
   "metadata": {},
   "outputs": [],
   "source": [
    "# Set device to GPU_indx if GPU is avaliable\n",
    "gpu_indx = 0\n",
    "device = torch.device(gpu_indx if torch.cuda.is_available() else 'cpu')"
   ]
  },
  {
   "cell_type": "markdown",
   "metadata": {},
   "source": [
    "<h3> Create a transform for the input data </h3>"
   ]
  },
  {
   "cell_type": "code",
   "execution_count": 5,
   "metadata": {},
   "outputs": [],
   "source": [
    "# Prepare a composition of transforms\n",
    "# transforms.Compose will perform the transforms in order\n",
    "# NOTE some transform only take in a PIL image, others only a Tensor\n",
    "# EG Resize and ToTensor take in a PIL Image, Normalize takes in a Tensor\n",
    "# Refer to documentation\n",
    "# https://pytorch.org/docs/stable/torchvision/transforms.html\n",
    "transform = transforms.Compose([transforms.Resize(32),  #32x32 image size\n",
    "                                transforms.ToTensor(),\n",
    "                                transforms.Normalize(mean=[0.485, 0.456, 0.406],\n",
    "                                                     std=[0.229, 0.224, 0.225])]) #Normalizes w.r.t. sample mean and std of each channel"
   ]
  },
  {
   "cell_type": "markdown",
   "metadata": {},
   "source": [
    "<h3> Create the training, testing and validation data</h3>"
   ]
  },
  {
   "cell_type": "code",
   "execution_count": 6,
   "metadata": {},
   "outputs": [],
   "source": [
    "# Let's use the CIFAR10 dataset!\n",
    "train_data = datasets.CIFAR10(data_set_root, train=True, download=True, transform=transform)\n",
    "test_data = datasets.CIFAR10(data_set_root, train=False, download=True, transform=transform)\n",
    "\n",
    "# We are going to split the train dataset into a train and validation set\n",
    "validation_split = 0.9\n",
    "\n",
    "# Determine the number of samples for each split\n",
    "n_train_examples = int(len(train_data) * validation_split)\n",
    "n_valid_examples = len(train_data) - n_train_examples\n",
    "\n",
    "# The function random_split will take our dataset and split it randomly and give us dataset\n",
    "# that are the sizes we gave it\n",
    "# Note: we can split it into to more then two pieces!\n",
    "train_data, valid_data = torch.utils.data.random_split(train_data, [n_train_examples, n_valid_examples])"
   ]
  },
  {
   "cell_type": "markdown",
   "metadata": {},
   "source": [
    "<h2>Creating Deep Networks</h2>\n",
    "So we'll just make our Networks deeper!<br>\n",
    "Well, it's not that simple, not only does adding more layers mean our model is more sequential (rather than parallel, meaning forward and backward passes are slower) but we now face other problems such as \n",
    "<a href=\"https://towardsdatascience.com/vanishing-gradient-in-deep-neural-network-83953217c59f\">Vanishing Gradients</a>. <br>\n",
    "When we create larger and larger networks, something funny happens when we try and train them, the gradients that are back propagated from the output become tiny (near zero) for layers near the top. They seem to \"vanish\"! But why!? Well in most models gradients become smaller as they backpropagate through a network. This is easiest to understand by looking at our networks parameters and thinking about how gradients are back propagated. In general gradients are back propagated by multiplying together the weights of layers sequentially. As the weights of our models are tiny (much less then one in magnitude) multiplying many of them together gives us a VERY small result. This problem becomes worse the deeper it is! As a result the top layers of our network barely move from their random initialisations and in effect aren't trained!"
   ]
  },
  {
   "cell_type": "markdown",
   "metadata": {},
   "source": [
    "<h3>Enter the Skip and Residual Connection!</h3>\n",
    "Skip and Residual connection allow us to have our deep networks and train them too!<br>\n",
    "So what are they?<br>\n",
    "In simple terms we take the output of some layer and \"skip\" some number of layers and combine it with the hidden layer of a much later layer. One result of this is that, during backpropagation, the gradients have a shorter minimum path to the input layers, reducing the impact of the vanishing gradient!<br>\n",
    "There are a couple of ways to combine hidden layers together, by adding them together or concatenating the tensors.<br>\n",
    "Adding the hidden layers together (often called a Residual Connection) means that the size of the layers must be the same which for the networks we've seen until now has not been the case (size usually decreases). However with residual connections we don't necessarily need to add the hidden layers directly. For example, we can take a hidden layer and skip two layers, by passing it through a single layer (that will transform it to the right size) halving the length of the path for gradients.<br>\n",
    "Concatenating hidden layers involves simply \"sticking together\" the tensors. <br>\n",
    "Residual and Skip Connections not only help with the vanishing gradient problem but also helps information from the input penetrate deeper into the network.\n",
    "\n",
    "\n",
    "![alt text](https://miro.medium.com/max/1140/1*D0F3UitQ2l5Q0Ak-tjEdJg.png)\n",
    "A simple \"Identity\" resdual connection"
   ]
  },
  {
   "cell_type": "markdown",
   "metadata": {},
   "source": [
    "<h3>Modules in Modules</h3>\n",
    "To simplify the creation of our residual and skip networks we will create seperate nn.modules of the skip and residual \"blocks\" and then create our \"top level\" network with these!<br>\n",
    "NOTE: For simplicity all these blocks return an output the same size as their input though this does not have to be the case! The blocks could downsample/upsample the channels or even the spacial resolution etc! <br>\n",
    "We also introduce several new basic layer types: <br>\n",
    "- <a href=\"https://youtu.be/DtEq44FTPM4?si=7KDVCRr_fzbQ2C7H\">Batch Normalisation</a> layers here with Pytorch's <a href=\"https://pytorch.org/docs/stable/generated/torch.nn.BatchNorm2d.html\">nn.BatchNorm2d</a><br>\n",
    "- Pytorch's <a href=\"https://pytorch.org/docs/stable/generated/torch.nn.Sequential.html\">nn.Sequential</a> module<br>\n",
    "- <a href=\"https://youtu.be/ARq74QuavAo?si=n2ukyt4xXAHULaFo\">Dropout</a> layers here with Pytorch's <a href=\"https://pytorch.org/docs/stable/generated/torch.nn.Dropout.html\">nn.Dropout</a><br>"
   ]
  },
  {
   "cell_type": "code",
   "execution_count": 7,
   "metadata": {},
   "outputs": [],
   "source": [
    "# ConvBlock with no Residual connection\n",
    "class ConvBlock(nn.Module):\n",
    "    def __init__(self, channels):\n",
    "        # Call the __init__ function of the parent nn.module class\n",
    "        super(ConvBlock, self).__init__()\n",
    "        \n",
    "        self.conv1 = nn.Conv2d(channels, channels//2,  kernel_size=3, stride=1, padding=1)\n",
    "        self.bn1 = nn.BatchNorm2d(channels//2) #We are doing normalization over the entire batch, not just for that frame\n",
    "        self.conv2 = nn.Conv2d(channels//2, channels,  kernel_size=3, stride=1, padding=1)\n",
    "        \n",
    "    def forward(self, x):\n",
    "        x = F.relu(x)\n",
    "        x = F.relu(self.bn1(self.conv1(x)))\n",
    "        x = self.conv2(x)\n",
    "        return x\n",
    "\n",
    "    \n",
    "# First block demonstraights a simple identity residual connection\n",
    "class ResBlock(nn.Module):\n",
    "    def __init__(self, channels):\n",
    "        # Call the __init__ function of the parent nn.module class\n",
    "        super(ResBlock, self).__init__()\n",
    "        \n",
    "        self.conv1 = nn.Conv2d(channels, channels//2,  kernel_size=3, stride=1, padding=1)\n",
    "        self.bn1 = nn.BatchNorm2d(channels//2)\n",
    "        self.conv2 = nn.Conv2d(channels//2, channels,  kernel_size=3, stride=1, padding=1)\n",
    "        \n",
    "    def forward(self, x):\n",
    "        # Res Skip BEFORE ReLU\n",
    "        x0 = x \n",
    "        \n",
    "        # Activation function BEFORE Conv Input\n",
    "        x = F.relu(x)\n",
    "        \n",
    "        x = F.relu(self.bn1(self.conv1(x)))\n",
    "        x = self.conv2(x)\n",
    "        \n",
    "        # Res addition on \"raw\" layer outputs\n",
    "        return x + x0\n",
    "    \n",
    "    \n",
    "# Second block demonstrates how we can use a \"side layer\" in our residual block to \n",
    "# Change the shape of the tensors so they match later layers\n",
    "# The channels change in this case but you could also create one where the feature map size changes\n",
    "class ResDownBlock(nn.Module):\n",
    "    def __init__(self, channels_in, channels_out=None):\n",
    "        # Call the __init__ function of the parent nn.module class\n",
    "        super(ResDownBlock, self).__init__()\n",
    "        \n",
    "        if channels_out is None:\n",
    "            channels_out = channels_in\n",
    "            \n",
    "        # How to handle channel width change\n",
    "        self.conv1 = nn.Conv2d(channels_in, channels_out, kernel_size=3, stride=1, padding = 1)\n",
    "        self.conv2 = nn.Conv2d(channels_out, channels_out, kernel_size=3, stride=1, padding = 1)\n",
    "        self.bn1 = nn.BatchNorm2d(channels_out)\n",
    "        \n",
    "        self.conv3 = nn.Conv2d(channels_in, channels_out, kernel_size=3, stride=1, padding = 1)\n",
    "\n",
    "    def forward(self, x):\n",
    "        x = F.relu(x)\n",
    "        x0 = self.conv3(x)\n",
    "        \n",
    "        x = F.relu(self.bn1(self.conv1(x)))\n",
    "        x = self.conv2(x)\n",
    "        \n",
    "        # Res addition on \"raw\" layer outputs\n",
    "        return x + x0\n",
    "\n",
    "    \n",
    "# Third block is a simple skip connection\n",
    "# The layers downsamples to half the input size channel size\n",
    "# and then concatenates the first hidden layer (x1) to the last output (x1) along the channels\n",
    "# creating a tensor that is the same shape as the input\n",
    "class SkipBlock(nn.Module):\n",
    "    def __init__(self, channels):\n",
    "        # Call the __init__ function of the parent nn.module class\n",
    "        super(SkipBlock, self).__init__()\n",
    "        \n",
    "        self.conv1 = nn.Conv2d(channels, channels//2,  kernel_size=3, stride=1, padding=1)\n",
    "        self.bn1 = nn.BatchNorm2d(channels//2)\n",
    "        self.conv2 = nn.Conv2d(channels//2, channels//2,  kernel_size=3, stride=1, padding=1)\n",
    "        \n",
    "    def forward(self, x):\n",
    "        x = F.relu(x)\n",
    "        \n",
    "        x1 = self.conv1(x)\n",
    "        x2 = F.relu(self.bn1(x1))\n",
    "        x3 = self.conv2(x2)\n",
    "        \n",
    "        # Skip concatenation of \"raw\" layer outputs\n",
    "        return torch.cat((x1, x3), 1)\n",
    "\n",
    "    \n",
    "# We will use the above blocks to create a \"Deep\" neural network with many layers!\n",
    "class Deep_CNN(nn.Module):\n",
    "    def __init__(self, channels_in, num_blocks=2, ch_width=32, layer_type=ResBlock):\n",
    "        # Call the __init__ function of the parent nn.module class\n",
    "        super(Deep_CNN, self).__init__()\n",
    "        \n",
    "        # Downsample the image/feature map size from 32x32 to 8x8\n",
    "        self.conv1 = nn.Conv2d(channels_in, ch_width, kernel_size=3, stride=1, padding=1)\n",
    "        self.bn1 = nn.BatchNorm2d(ch_width)\n",
    "        \n",
    "        self.conv2 = nn.Conv2d(ch_width, ch_width, kernel_size=3, stride=1, padding=1)\n",
    "        self.bn2 = nn.BatchNorm2d(ch_width)\n",
    "        \n",
    "        self.conv3 = nn.Conv2d(ch_width, ch_width, kernel_size=3, stride=1, padding=1)\n",
    "\n",
    "        self.maxpool = nn.MaxPool2d(kernel_size=2)\n",
    "\n",
    "        # Define a nn.Sequential list of ResBlocks if num_blocks > 0\n",
    "        # else use nn.Identity as a \"do nothing\" block\n",
    "        if num_blocks > 0:\n",
    "            self.layers = self.create_blocks(num_blocks, layer_type, channels=ch_width)\n",
    "        else:\n",
    "            self.layers = nn.Identity()\n",
    "\n",
    "        self.drop_out = nn.Dropout(p=0.5) #Dropout2D will drop out the entire feature map\n",
    "        self.linear1 = nn.Linear(ch_width * 4 * 4, 10)\n",
    "\n",
    "        # This function will create a nn.Sequential block from a list of Pytorch layers\n",
    "        # A forward pass though the Sequential block will perform a forward pass\n",
    "        # though the layers in the order they appear in the list\n",
    "    def create_blocks(self, num_blocks, block_type, channels):\n",
    "        blocks = []\n",
    "        \n",
    "        # We will add some number of the res/skip blocks!\n",
    "        for _ in range(num_blocks):\n",
    "            blocks.append(block_type(channels))\n",
    "\n",
    "        return nn.Sequential(*blocks)\n",
    "        \n",
    "    def forward(self, x):\n",
    "        # Pass input through conv layers\n",
    "        x = F.relu(self.bn1(self.conv1(x)))\n",
    "        x = self.maxpool(x)\n",
    "\n",
    "        x = F.relu(self.bn2(self.conv2(x)))\n",
    "        x = self.maxpool(x)\n",
    "        \n",
    "        # No ReLU on the output so each ResBlock gets the \"raw\" layer output\n",
    "        # So the Res skip can happen before any activation function!\n",
    "        x = self.conv3(x)\n",
    "        #Not another relu because the first step of the block is a relu\n",
    "        \n",
    "        # Pass through the block of res/skip blocks!\n",
    "        x = F.relu(self.layers(x))\n",
    "        x = self.maxpool(x)\n",
    "\n",
    "        # Flatten it for the final linear layer!\n",
    "        x = x.view(x.shape[0], -1)\n",
    "        \n",
    "        # Use Drop-out to help prevent overfitting!\n",
    "        x = self.drop_out(x)\n",
    "        \n",
    "        # Ouput the class acitvations!\n",
    "        x = self.linear1(x)\n",
    "\n",
    "        return x"
   ]
  },
  {
   "cell_type": "markdown",
   "metadata": {},
   "source": [
    "<h3>Creating our Network</h3>\n",
    "When creating an instance of our network we will also specify the type of block we will use!<br>\n",
    "The next bit of code should be familiar to you, try experimenting with the different layer types and see the different results!"
   ]
  },
  {
   "cell_type": "code",
   "execution_count": 17,
   "metadata": {},
   "outputs": [],
   "source": [
    "# Create an instance of our network\n",
    "# Set channels_in to the number of channels of the dataset images\n",
    "res_net = Deep_CNN(channels_in=3, num_blocks=10, ch_width=32, layer_type=ResBlock).to(device)"
   ]
  },
  {
   "cell_type": "code",
   "execution_count": 18,
   "metadata": {},
   "outputs": [
    {
     "data": {
      "text/plain": [
       "Deep_CNN(\n",
       "  (conv1): Conv2d(3, 32, kernel_size=(3, 3), stride=(1, 1), padding=(1, 1))\n",
       "  (bn1): BatchNorm2d(32, eps=1e-05, momentum=0.1, affine=True, track_running_stats=True)\n",
       "  (conv2): Conv2d(32, 32, kernel_size=(3, 3), stride=(1, 1), padding=(1, 1))\n",
       "  (bn2): BatchNorm2d(32, eps=1e-05, momentum=0.1, affine=True, track_running_stats=True)\n",
       "  (conv3): Conv2d(32, 32, kernel_size=(3, 3), stride=(1, 1), padding=(1, 1))\n",
       "  (maxpool): MaxPool2d(kernel_size=2, stride=2, padding=0, dilation=1, ceil_mode=False)\n",
       "  (layers): Sequential(\n",
       "    (0): ResBlock(\n",
       "      (conv1): Conv2d(32, 16, kernel_size=(3, 3), stride=(1, 1), padding=(1, 1))\n",
       "      (bn1): BatchNorm2d(16, eps=1e-05, momentum=0.1, affine=True, track_running_stats=True)\n",
       "      (conv2): Conv2d(16, 32, kernel_size=(3, 3), stride=(1, 1), padding=(1, 1))\n",
       "    )\n",
       "    (1): ResBlock(\n",
       "      (conv1): Conv2d(32, 16, kernel_size=(3, 3), stride=(1, 1), padding=(1, 1))\n",
       "      (bn1): BatchNorm2d(16, eps=1e-05, momentum=0.1, affine=True, track_running_stats=True)\n",
       "      (conv2): Conv2d(16, 32, kernel_size=(3, 3), stride=(1, 1), padding=(1, 1))\n",
       "    )\n",
       "    (2): ResBlock(\n",
       "      (conv1): Conv2d(32, 16, kernel_size=(3, 3), stride=(1, 1), padding=(1, 1))\n",
       "      (bn1): BatchNorm2d(16, eps=1e-05, momentum=0.1, affine=True, track_running_stats=True)\n",
       "      (conv2): Conv2d(16, 32, kernel_size=(3, 3), stride=(1, 1), padding=(1, 1))\n",
       "    )\n",
       "    (3): ResBlock(\n",
       "      (conv1): Conv2d(32, 16, kernel_size=(3, 3), stride=(1, 1), padding=(1, 1))\n",
       "      (bn1): BatchNorm2d(16, eps=1e-05, momentum=0.1, affine=True, track_running_stats=True)\n",
       "      (conv2): Conv2d(16, 32, kernel_size=(3, 3), stride=(1, 1), padding=(1, 1))\n",
       "    )\n",
       "    (4): ResBlock(\n",
       "      (conv1): Conv2d(32, 16, kernel_size=(3, 3), stride=(1, 1), padding=(1, 1))\n",
       "      (bn1): BatchNorm2d(16, eps=1e-05, momentum=0.1, affine=True, track_running_stats=True)\n",
       "      (conv2): Conv2d(16, 32, kernel_size=(3, 3), stride=(1, 1), padding=(1, 1))\n",
       "    )\n",
       "    (5): ResBlock(\n",
       "      (conv1): Conv2d(32, 16, kernel_size=(3, 3), stride=(1, 1), padding=(1, 1))\n",
       "      (bn1): BatchNorm2d(16, eps=1e-05, momentum=0.1, affine=True, track_running_stats=True)\n",
       "      (conv2): Conv2d(16, 32, kernel_size=(3, 3), stride=(1, 1), padding=(1, 1))\n",
       "    )\n",
       "    (6): ResBlock(\n",
       "      (conv1): Conv2d(32, 16, kernel_size=(3, 3), stride=(1, 1), padding=(1, 1))\n",
       "      (bn1): BatchNorm2d(16, eps=1e-05, momentum=0.1, affine=True, track_running_stats=True)\n",
       "      (conv2): Conv2d(16, 32, kernel_size=(3, 3), stride=(1, 1), padding=(1, 1))\n",
       "    )\n",
       "    (7): ResBlock(\n",
       "      (conv1): Conv2d(32, 16, kernel_size=(3, 3), stride=(1, 1), padding=(1, 1))\n",
       "      (bn1): BatchNorm2d(16, eps=1e-05, momentum=0.1, affine=True, track_running_stats=True)\n",
       "      (conv2): Conv2d(16, 32, kernel_size=(3, 3), stride=(1, 1), padding=(1, 1))\n",
       "    )\n",
       "    (8): ResBlock(\n",
       "      (conv1): Conv2d(32, 16, kernel_size=(3, 3), stride=(1, 1), padding=(1, 1))\n",
       "      (bn1): BatchNorm2d(16, eps=1e-05, momentum=0.1, affine=True, track_running_stats=True)\n",
       "      (conv2): Conv2d(16, 32, kernel_size=(3, 3), stride=(1, 1), padding=(1, 1))\n",
       "    )\n",
       "    (9): ResBlock(\n",
       "      (conv1): Conv2d(32, 16, kernel_size=(3, 3), stride=(1, 1), padding=(1, 1))\n",
       "      (bn1): BatchNorm2d(16, eps=1e-05, momentum=0.1, affine=True, track_running_stats=True)\n",
       "      (conv2): Conv2d(16, 32, kernel_size=(3, 3), stride=(1, 1), padding=(1, 1))\n",
       "    )\n",
       "  )\n",
       "  (drop_out): Dropout(p=0.5, inplace=False)\n",
       "  (linear1): Linear(in_features=512, out_features=10, bias=True)\n",
       ")"
      ]
     },
     "execution_count": 18,
     "metadata": {},
     "output_type": "execute_result"
    }
   ],
   "source": [
    "# Lets have a look at our network structure!\n",
    "res_net"
   ]
  },
  {
   "cell_type": "code",
   "execution_count": 19,
   "metadata": {},
   "outputs": [
    {
     "name": "stdout",
     "output_type": "stream",
     "text": [
      "Starting from scratch\n"
     ]
    }
   ],
   "source": [
    "model_trainer = ModelTrainer(model=res_net, device=device, loss_fun=nn.CrossEntropyLoss(), \n",
    "                             batch_size=batch_size, learning_rate=learning_rate, \n",
    "                             save_dir=save_dir, model_name=model_name, \n",
    "                             start_from_checkpoint=start_from_checkpoint)\n",
    "valid_acc = 0\n",
    "train_acc = 0"
   ]
  },
  {
   "cell_type": "code",
   "execution_count": 20,
   "metadata": {},
   "outputs": [
    {
     "name": "stdout",
     "output_type": "stream",
     "text": [
      "Number of training examples: 45000\n",
      "Number of validation examples: 5000\n",
      "Number of testing examples: 10000\n"
     ]
    }
   ],
   "source": [
    "model_trainer.set_data(train_set=train_data, test_set=test_data, val_set=valid_data)"
   ]
  },
  {
   "cell_type": "code",
   "execution_count": 15,
   "metadata": {},
   "outputs": [
    {
     "data": {
      "image/png": "[encoded data removed]",
      "text/plain": [
       "<Figure size 2000x1000 with 1 Axes>"
      ]
     },
     "metadata": {},
     "output_type": "display_data"
    }
   ],
   "source": [
    "plt.figure(figsize = (20,10))\n",
    "images, labels = next(iter(model_trainer.test_loader))\n",
    "out = torchvision.utils.make_grid(images[0:8], normalize=True)\n",
    "_ = plt.imshow(out.numpy().transpose((1, 2, 0)))"
   ]
  },
  {
   "cell_type": "code",
   "execution_count": 21,
   "metadata": {},
   "outputs": [
    {
     "name": "stdout",
     "output_type": "stream",
     "text": [
      "This model has 117610 (approximately 0 Million) Parameters!\n"
     ]
    }
   ],
   "source": [
    "# Lets see how many Parameter's our Model has!\n",
    "num_params = 0\n",
    "for param in model_trainer.model.parameters():\n",
    "    num_params += param.flatten().shape[0]\n",
    "print(\"This model has %d (approximately %d Million) Parameters!\" % (num_params, num_params//1e6))"
   ]
  },
  {
   "cell_type": "code",
   "execution_count": 22,
   "metadata": {},
   "outputs": [
    {
     "data": {
      "application/vnd.jupyter.widget-view+json": {
       "model_id": "084adab4f5f0424480efa0f9ad7fe425",
       "version_major": 2,
       "version_minor": 0
      },
      "text/plain": [
       "Epoch:   0%|          | 0/30 [00:00<?, ?it/s]"
      ]
     },
     "metadata": {},
     "output_type": "display_data"
    },
    {
     "data": {
      "application/vnd.jupyter.widget-view+json": {
       "model_id": "6637b6acd0044447bcff017b9916dfed",
       "version_major": 2,
       "version_minor": 0
      },
      "text/plain": [
       "Training:   0%|          | 0/176 [00:00<?, ?it/s]"
      ]
     },
     "metadata": {},
     "output_type": "display_data"
    },
    {
     "data": {
      "application/vnd.jupyter.widget-view+json": {
       "model_id": "7dd84949e1e04cd9b55df403ae7092b4",
       "version_major": 2,
       "version_minor": 0
      },
      "text/plain": [
       "Evaluating Train Set:   0%|          | 0/176 [00:00<?, ?it/s]"
      ]
     },
     "metadata": {},
     "output_type": "display_data"
    },
    {
     "data": {
      "application/vnd.jupyter.widget-view+json": {
       "model_id": "58a3e92e0063490d88373deb79a16b0a",
       "version_major": 2,
       "version_minor": 0
      },
      "text/plain": [
       "Evaluating Validation Set:   0%|          | 0/20 [00:00<?, ?it/s]"
      ]
     },
     "metadata": {},
     "output_type": "display_data"
    },
    {
     "data": {
      "application/vnd.jupyter.widget-view+json": {
       "model_id": "806d65c0e39e4bd4bda2ff88e1f7069a",
       "version_major": 2,
       "version_minor": 0
      },
      "text/plain": [
       "Training:   0%|          | 0/176 [00:00<?, ?it/s]"
      ]
     },
     "metadata": {},
     "output_type": "display_data"
    },
    {
     "data": {
      "application/vnd.jupyter.widget-view+json": {
       "model_id": "9cc344fb3d01423ab4cf206b80dafc73",
       "version_major": 2,
       "version_minor": 0
      },
      "text/plain": [
       "Evaluating Train Set:   0%|          | 0/176 [00:00<?, ?it/s]"
      ]
     },
     "metadata": {},
     "output_type": "display_data"
    },
    {
     "data": {
      "application/vnd.jupyter.widget-view+json": {
       "model_id": "2f19f78689094be2a4a1aaf36d9db593",
       "version_major": 2,
       "version_minor": 0
      },
      "text/plain": [
       "Evaluating Validation Set:   0%|          | 0/20 [00:00<?, ?it/s]"
      ]
     },
     "metadata": {},
     "output_type": "display_data"
    },
    {
     "data": {
      "application/vnd.jupyter.widget-view+json": {
       "model_id": "ea7a1bd63eda4e05a335e604c8c8e796",
       "version_major": 2,
       "version_minor": 0
      },
      "text/plain": [
       "Training:   0%|          | 0/176 [00:00<?, ?it/s]"
      ]
     },
     "metadata": {},
     "output_type": "display_data"
    },
    {
     "data": {
      "application/vnd.jupyter.widget-view+json": {
       "model_id": "1342edb675e74388bede9782cee2a0fc",
       "version_major": 2,
       "version_minor": 0
      },
      "text/plain": [
       "Evaluating Train Set:   0%|          | 0/176 [00:00<?, ?it/s]"
      ]
     },
     "metadata": {},
     "output_type": "display_data"
    },
    {
     "data": {
      "application/vnd.jupyter.widget-view+json": {
       "model_id": "ed047eff0e704d46b3ac31a8fb63dd3f",
       "version_major": 2,
       "version_minor": 0
      },
      "text/plain": [
       "Evaluating Validation Set:   0%|          | 0/20 [00:00<?, ?it/s]"
      ]
     },
     "metadata": {},
     "output_type": "display_data"
    },
    {
     "data": {
      "application/vnd.jupyter.widget-view+json": {
       "model_id": "dc4010fad53b44dbb0ad5bb3bffa8a34",
       "version_major": 2,
       "version_minor": 0
      },
      "text/plain": [
       "Training:   0%|          | 0/176 [00:00<?, ?it/s]"
      ]
     },
     "metadata": {},
     "output_type": "display_data"
    },
    {
     "data": {
      "application/vnd.jupyter.widget-view+json": {
       "model_id": "c702bbf3600b47f095e7f9d76c8cd4c3",
       "version_major": 2,
       "version_minor": 0
      },
      "text/plain": [
       "Evaluating Train Set:   0%|          | 0/176 [00:00<?, ?it/s]"
      ]
     },
     "metadata": {},
     "output_type": "display_data"
    },
    {
     "data": {
      "application/vnd.jupyter.widget-view+json": {
       "model_id": "22a8acffd78d48b083bc223eef59a7c0",
       "version_major": 2,
       "version_minor": 0
      },
      "text/plain": [
       "Evaluating Validation Set:   0%|          | 0/20 [00:00<?, ?it/s]"
      ]
     },
     "metadata": {},
     "output_type": "display_data"
    },
    {
     "data": {
      "application/vnd.jupyter.widget-view+json": {
       "model_id": "6fb4718baa6f4c1e9f6f647a4402af49",
       "version_major": 2,
       "version_minor": 0
      },
      "text/plain": [
       "Training:   0%|          | 0/176 [00:00<?, ?it/s]"
      ]
     },
     "metadata": {},
     "output_type": "display_data"
    },
    {
     "data": {
      "application/vnd.jupyter.widget-view+json": {
       "model_id": "4afa651fb311429f82ee62d0a8f92fe4",
       "version_major": 2,
       "version_minor": 0
      },
      "text/plain": [
       "Evaluating Train Set:   0%|          | 0/176 [00:00<?, ?it/s]"
      ]
     },
     "metadata": {},
     "output_type": "display_data"
    },
    {
     "data": {
      "application/vnd.jupyter.widget-view+json": {
       "model_id": "0f6f7ff579f94fa38755f22d73d317be",
       "version_major": 2,
       "version_minor": 0
      },
      "text/plain": [
       "Evaluating Validation Set:   0%|          | 0/20 [00:00<?, ?it/s]"
      ]
     },
     "metadata": {},
     "output_type": "display_data"
    },
    {
     "data": {
      "application/vnd.jupyter.widget-view+json": {
       "model_id": "7199d02d04f2414395287ab944190792",
       "version_major": 2,
       "version_minor": 0
      },
      "text/plain": [
       "Training:   0%|          | 0/176 [00:00<?, ?it/s]"
      ]
     },
     "metadata": {},
     "output_type": "display_data"
    },
    {
     "data": {
      "application/vnd.jupyter.widget-view+json": {
       "model_id": "50611831a8c049b48b844b5423ae5273",
       "version_major": 2,
       "version_minor": 0
      },
      "text/plain": [
       "Evaluating Train Set:   0%|          | 0/176 [00:00<?, ?it/s]"
      ]
     },
     "metadata": {},
     "output_type": "display_data"
    },
    {
     "data": {
      "application/vnd.jupyter.widget-view+json": {
       "model_id": "46a2903e33a74747bb75af72689aafae",
       "version_major": 2,
       "version_minor": 0
      },
      "text/plain": [
       "Evaluating Validation Set:   0%|          | 0/20 [00:00<?, ?it/s]"
      ]
     },
     "metadata": {},
     "output_type": "display_data"
    },
    {
     "data": {
      "application/vnd.jupyter.widget-view+json": {
       "model_id": "5afcecc6196b4a0dbc1289dfe1a71dfd",
       "version_major": 2,
       "version_minor": 0
      },
      "text/plain": [
       "Training:   0%|          | 0/176 [00:00<?, ?it/s]"
      ]
     },
     "metadata": {},
     "output_type": "display_data"
    },
    {
     "data": {
      "application/vnd.jupyter.widget-view+json": {
       "model_id": "008b030f45464440aa6a3fe6c4a9dee4",
       "version_major": 2,
       "version_minor": 0
      },
      "text/plain": [
       "Evaluating Train Set:   0%|          | 0/176 [00:00<?, ?it/s]"
      ]
     },
     "metadata": {},
     "output_type": "display_data"
    },
    {
     "data": {
      "application/vnd.jupyter.widget-view+json": {
       "model_id": "2c792ba031ae4d8b9212885be7b5b500",
       "version_major": 2,
       "version_minor": 0
      },
      "text/plain": [
       "Evaluating Validation Set:   0%|          | 0/20 [00:00<?, ?it/s]"
      ]
     },
     "metadata": {},
     "output_type": "display_data"
    },
    {
     "data": {
      "application/vnd.jupyter.widget-view+json": {
       "model_id": "fab5878b3493451d96e8b6b9f77bfdd0",
       "version_major": 2,
       "version_minor": 0
      },
      "text/plain": [
       "Training:   0%|          | 0/176 [00:00<?, ?it/s]"
      ]
     },
     "metadata": {},
     "output_type": "display_data"
    },
    {
     "data": {
      "application/vnd.jupyter.widget-view+json": {
       "model_id": "6ba758376cd4472d993869c8835bff57",
       "version_major": 2,
       "version_minor": 0
      },
      "text/plain": [
       "Evaluating Train Set:   0%|          | 0/176 [00:00<?, ?it/s]"
      ]
     },
     "metadata": {},
     "output_type": "display_data"
    },
    {
     "data": {
      "application/vnd.jupyter.widget-view+json": {
       "model_id": "0c24a5dd2b4a43859dffbbd7a6e31642",
       "version_major": 2,
       "version_minor": 0
      },
      "text/plain": [
       "Evaluating Validation Set:   0%|          | 0/20 [00:00<?, ?it/s]"
      ]
     },
     "metadata": {},
     "output_type": "display_data"
    },
    {
     "data": {
      "application/vnd.jupyter.widget-view+json": {
       "model_id": "b5cb7865bed14cb8968288796d2c47bd",
       "version_major": 2,
       "version_minor": 0
      },
      "text/plain": [
       "Training:   0%|          | 0/176 [00:00<?, ?it/s]"
      ]
     },
     "metadata": {},
     "output_type": "display_data"
    },
    {
     "data": {
      "application/vnd.jupyter.widget-view+json": {
       "model_id": "3fc3fa3ca3074c43a7dd7055315b3d15",
       "version_major": 2,
       "version_minor": 0
      },
      "text/plain": [
       "Evaluating Train Set:   0%|          | 0/176 [00:00<?, ?it/s]"
      ]
     },
     "metadata": {},
     "output_type": "display_data"
    },
    {
     "data": {
      "application/vnd.jupyter.widget-view+json": {
       "model_id": "77398f936e49420abcc7557ab1ea55a1",
       "version_major": 2,
       "version_minor": 0
      },
      "text/plain": [
       "Evaluating Validation Set:   0%|          | 0/20 [00:00<?, ?it/s]"
      ]
     },
     "metadata": {},
     "output_type": "display_data"
    },
    {
     "data": {
      "application/vnd.jupyter.widget-view+json": {
       "model_id": "a94a6e06e1dd4748845a175f607c89b2",
       "version_major": 2,
       "version_minor": 0
      },
      "text/plain": [
       "Training:   0%|          | 0/176 [00:00<?, ?it/s]"
      ]
     },
     "metadata": {},
     "output_type": "display_data"
    },
    {
     "data": {
      "application/vnd.jupyter.widget-view+json": {
       "model_id": "0b78cb98a5994ef0ac20383bd6940b93",
       "version_major": 2,
       "version_minor": 0
      },
      "text/plain": [
       "Evaluating Train Set:   0%|          | 0/176 [00:00<?, ?it/s]"
      ]
     },
     "metadata": {},
     "output_type": "display_data"
    },
    {
     "data": {
      "application/vnd.jupyter.widget-view+json": {
       "model_id": "14c2d1cecab14f7182adc4d1ff2242f8",
       "version_major": 2,
       "version_minor": 0
      },
      "text/plain": [
       "Evaluating Validation Set:   0%|          | 0/20 [00:00<?, ?it/s]"
      ]
     },
     "metadata": {},
     "output_type": "display_data"
    },
    {
     "data": {
      "application/vnd.jupyter.widget-view+json": {
       "model_id": "ee4474e5f72a4e92a8ad403eead69f11",
       "version_major": 2,
       "version_minor": 0
      },
      "text/plain": [
       "Training:   0%|          | 0/176 [00:00<?, ?it/s]"
      ]
     },
     "metadata": {},
     "output_type": "display_data"
    },
    {
     "data": {
      "application/vnd.jupyter.widget-view+json": {
       "model_id": "7e8921af6bfe447ab92324a23f9481e1",
       "version_major": 2,
       "version_minor": 0
      },
      "text/plain": [
       "Evaluating Train Set:   0%|          | 0/176 [00:00<?, ?it/s]"
      ]
     },
     "metadata": {},
     "output_type": "display_data"
    },
    {
     "data": {
      "application/vnd.jupyter.widget-view+json": {
       "model_id": "deb3147651a54507a1860e418146b7df",
       "version_major": 2,
       "version_minor": 0
      },
      "text/plain": [
       "Evaluating Validation Set:   0%|          | 0/20 [00:00<?, ?it/s]"
      ]
     },
     "metadata": {},
     "output_type": "display_data"
    },
    {
     "data": {
      "application/vnd.jupyter.widget-view+json": {
       "model_id": "7a307333c8ef4f3eb0f4902e7968c23a",
       "version_major": 2,
       "version_minor": 0
      },
      "text/plain": [
       "Training:   0%|          | 0/176 [00:00<?, ?it/s]"
      ]
     },
     "metadata": {},
     "output_type": "display_data"
    },
    {
     "data": {
      "application/vnd.jupyter.widget-view+json": {
       "model_id": "22cc08a899c64326832a597cbad9e9af",
       "version_major": 2,
       "version_minor": 0
      },
      "text/plain": [
       "Evaluating Train Set:   0%|          | 0/176 [00:00<?, ?it/s]"
      ]
     },
     "metadata": {},
     "output_type": "display_data"
    },
    {
     "data": {
      "application/vnd.jupyter.widget-view+json": {
       "model_id": "eecb967e2a0d4e5cbacfeaacaa67b550",
       "version_major": 2,
       "version_minor": 0
      },
      "text/plain": [
       "Evaluating Validation Set:   0%|          | 0/20 [00:00<?, ?it/s]"
      ]
     },
     "metadata": {},
     "output_type": "display_data"
    },
    {
     "data": {
      "application/vnd.jupyter.widget-view+json": {
       "model_id": "d5a3c4cdfe6e423281c29c66c1e6de2f",
       "version_major": 2,
       "version_minor": 0
      },
      "text/plain": [
       "Training:   0%|          | 0/176 [00:00<?, ?it/s]"
      ]
     },
     "metadata": {},
     "output_type": "display_data"
    },
    {
     "data": {
      "application/vnd.jupyter.widget-view+json": {
       "model_id": "4e165c5da2694b25ae31f32576ad03a3",
       "version_major": 2,
       "version_minor": 0
      },
      "text/plain": [
       "Evaluating Train Set:   0%|          | 0/176 [00:00<?, ?it/s]"
      ]
     },
     "metadata": {},
     "output_type": "display_data"
    },
    {
     "data": {
      "application/vnd.jupyter.widget-view+json": {
       "model_id": "59d9d0c65fee4f5ab13512a4997468d8",
       "version_major": 2,
       "version_minor": 0
      },
      "text/plain": [
       "Evaluating Validation Set:   0%|          | 0/20 [00:00<?, ?it/s]"
      ]
     },
     "metadata": {},
     "output_type": "display_data"
    },
    {
     "data": {
      "application/vnd.jupyter.widget-view+json": {
       "model_id": "3cd76cc463294dc2aec9711eba944ffc",
       "version_major": 2,
       "version_minor": 0
      },
      "text/plain": [
       "Training:   0%|          | 0/176 [00:00<?, ?it/s]"
      ]
     },
     "metadata": {},
     "output_type": "display_data"
    },
    {
     "data": {
      "application/vnd.jupyter.widget-view+json": {
       "model_id": "1eb2b8eb18f34c84884b2e126080a262",
       "version_major": 2,
       "version_minor": 0
      },
      "text/plain": [
       "Evaluating Train Set:   0%|          | 0/176 [00:00<?, ?it/s]"
      ]
     },
     "metadata": {},
     "output_type": "display_data"
    },
    {
     "data": {
      "application/vnd.jupyter.widget-view+json": {
       "model_id": "1e246ea025e04e7281bc655dd58b9241",
       "version_major": 2,
       "version_minor": 0
      },
      "text/plain": [
       "Evaluating Validation Set:   0%|          | 0/20 [00:00<?, ?it/s]"
      ]
     },
     "metadata": {},
     "output_type": "display_data"
    },
    {
     "data": {
      "application/vnd.jupyter.widget-view+json": {
       "model_id": "588aa0f2e60c4d9fa250316893f48cb5",
       "version_major": 2,
       "version_minor": 0
      },
      "text/plain": [
       "Training:   0%|          | 0/176 [00:00<?, ?it/s]"
      ]
     },
     "metadata": {},
     "output_type": "display_data"
    },
    {
     "data": {
      "application/vnd.jupyter.widget-view+json": {
       "model_id": "5ff8730f4ff54b918b1c33e36c334857",
       "version_major": 2,
       "version_minor": 0
      },
      "text/plain": [
       "Evaluating Train Set:   0%|          | 0/176 [00:00<?, ?it/s]"
      ]
     },
     "metadata": {},
     "output_type": "display_data"
    },
    {
     "data": {
      "application/vnd.jupyter.widget-view+json": {
       "model_id": "bd593bfda1374856a9993fe0f2c495c5",
       "version_major": 2,
       "version_minor": 0
      },
      "text/plain": [
       "Evaluating Validation Set:   0%|          | 0/20 [00:00<?, ?it/s]"
      ]
     },
     "metadata": {},
     "output_type": "display_data"
    },
    {
     "data": {
      "application/vnd.jupyter.widget-view+json": {
       "model_id": "0c26eeeb93dd4147afd19ff259bfffa8",
       "version_major": 2,
       "version_minor": 0
      },
      "text/plain": [
       "Training:   0%|          | 0/176 [00:00<?, ?it/s]"
      ]
     },
     "metadata": {},
     "output_type": "display_data"
    },
    {
     "data": {
      "application/vnd.jupyter.widget-view+json": {
       "model_id": "a4517776009645feae4ea961baf1628f",
       "version_major": 2,
       "version_minor": 0
      },
      "text/plain": [
       "Evaluating Train Set:   0%|          | 0/176 [00:00<?, ?it/s]"
      ]
     },
     "metadata": {},
     "output_type": "display_data"
    },
    {
     "data": {
      "application/vnd.jupyter.widget-view+json": {
       "model_id": "b7310cd598fb4546b8379e3245f5c574",
       "version_major": 2,
       "version_minor": 0
      },
      "text/plain": [
       "Evaluating Validation Set:   0%|          | 0/20 [00:00<?, ?it/s]"
      ]
     },
     "metadata": {},
     "output_type": "display_data"
    },
    {
     "data": {
      "application/vnd.jupyter.widget-view+json": {
       "model_id": "3b0b1590f1ff41aa83c118768dfa3960",
       "version_major": 2,
       "version_minor": 0
      },
      "text/plain": [
       "Training:   0%|          | 0/176 [00:00<?, ?it/s]"
      ]
     },
     "metadata": {},
     "output_type": "display_data"
    },
    {
     "data": {
      "application/vnd.jupyter.widget-view+json": {
       "model_id": "edb667b473b84b179e40718bf706be5c",
       "version_major": 2,
       "version_minor": 0
      },
      "text/plain": [
       "Evaluating Train Set:   0%|          | 0/176 [00:00<?, ?it/s]"
      ]
     },
     "metadata": {},
     "output_type": "display_data"
    },
    {
     "data": {
      "application/vnd.jupyter.widget-view+json": {
       "model_id": "ff1a95ba971f4608ba11d11f2d3a611d",
       "version_major": 2,
       "version_minor": 0
      },
      "text/plain": [
       "Evaluating Validation Set:   0%|          | 0/20 [00:00<?, ?it/s]"
      ]
     },
     "metadata": {},
     "output_type": "display_data"
    },
    {
     "data": {
      "application/vnd.jupyter.widget-view+json": {
       "model_id": "e1ccd23d06e644d8b817b454ab91f917",
       "version_major": 2,
       "version_minor": 0
      },
      "text/plain": [
       "Training:   0%|          | 0/176 [00:00<?, ?it/s]"
      ]
     },
     "metadata": {},
     "output_type": "display_data"
    },
    {
     "data": {
      "application/vnd.jupyter.widget-view+json": {
       "model_id": "55b3b4147aed4182957d8fee8545cd40",
       "version_major": 2,
       "version_minor": 0
      },
      "text/plain": [
       "Evaluating Train Set:   0%|          | 0/176 [00:00<?, ?it/s]"
      ]
     },
     "metadata": {},
     "output_type": "display_data"
    },
    {
     "data": {
      "application/vnd.jupyter.widget-view+json": {
       "model_id": "8c749daf02844ec694090be75e285e7b",
       "version_major": 2,
       "version_minor": 0
      },
      "text/plain": [
       "Evaluating Validation Set:   0%|          | 0/20 [00:00<?, ?it/s]"
      ]
     },
     "metadata": {},
     "output_type": "display_data"
    },
    {
     "data": {
      "application/vnd.jupyter.widget-view+json": {
       "model_id": "810a76a4561642d08bbb4f13f0af8abd",
       "version_major": 2,
       "version_minor": 0
      },
      "text/plain": [
       "Training:   0%|          | 0/176 [00:00<?, ?it/s]"
      ]
     },
     "metadata": {},
     "output_type": "display_data"
    },
    {
     "data": {
      "application/vnd.jupyter.widget-view+json": {
       "model_id": "04c78fd052e1452699e6126dc7f5acb5",
       "version_major": 2,
       "version_minor": 0
      },
      "text/plain": [
       "Evaluating Train Set:   0%|          | 0/176 [00:00<?, ?it/s]"
      ]
     },
     "metadata": {},
     "output_type": "display_data"
    },
    {
     "data": {
      "application/vnd.jupyter.widget-view+json": {
       "model_id": "4d3e3825ab8a4020b0a85fd43bf98b08",
       "version_major": 2,
       "version_minor": 0
      },
      "text/plain": [
       "Evaluating Validation Set:   0%|          | 0/20 [00:00<?, ?it/s]"
      ]
     },
     "metadata": {},
     "output_type": "display_data"
    },
    {
     "data": {
      "application/vnd.jupyter.widget-view+json": {
       "model_id": "99ddcd97787e4771b3cb2da4f6dc4dae",
       "version_major": 2,
       "version_minor": 0
      },
      "text/plain": [
       "Training:   0%|          | 0/176 [00:00<?, ?it/s]"
      ]
     },
     "metadata": {},
     "output_type": "display_data"
    },
    {
     "data": {
      "application/vnd.jupyter.widget-view+json": {
       "model_id": "cb8e67a0b4724fb3aef345f69a5c88fa",
       "version_major": 2,
       "version_minor": 0
      },
      "text/plain": [
       "Evaluating Train Set:   0%|          | 0/176 [00:00<?, ?it/s]"
      ]
     },
     "metadata": {},
     "output_type": "display_data"
    },
    {
     "data": {
      "application/vnd.jupyter.widget-view+json": {
       "model_id": "8682356e3e824fc9ad7c5b0ee4220613",
       "version_major": 2,
       "version_minor": 0
      },
      "text/plain": [
       "Evaluating Validation Set:   0%|          | 0/20 [00:00<?, ?it/s]"
      ]
     },
     "metadata": {},
     "output_type": "display_data"
    },
    {
     "data": {
      "application/vnd.jupyter.widget-view+json": {
       "model_id": "6990b8f22dff40109e2836eb51d029fd",
       "version_major": 2,
       "version_minor": 0
      },
      "text/plain": [
       "Training:   0%|          | 0/176 [00:00<?, ?it/s]"
      ]
     },
     "metadata": {},
     "output_type": "display_data"
    },
    {
     "data": {
      "application/vnd.jupyter.widget-view+json": {
       "model_id": "447ef66f388d42569db7466c116dccc6",
       "version_major": 2,
       "version_minor": 0
      },
      "text/plain": [
       "Evaluating Train Set:   0%|          | 0/176 [00:00<?, ?it/s]"
      ]
     },
     "metadata": {},
     "output_type": "display_data"
    },
    {
     "data": {
      "application/vnd.jupyter.widget-view+json": {
       "model_id": "70067e07a99346b3898e6d9e50358103",
       "version_major": 2,
       "version_minor": 0
      },
      "text/plain": [
       "Evaluating Validation Set:   0%|          | 0/20 [00:00<?, ?it/s]"
      ]
     },
     "metadata": {},
     "output_type": "display_data"
    },
    {
     "data": {
      "application/vnd.jupyter.widget-view+json": {
       "model_id": "67bb747df65546dc9cc0bc1c1ef1f1e8",
       "version_major": 2,
       "version_minor": 0
      },
      "text/plain": [
       "Training:   0%|          | 0/176 [00:00<?, ?it/s]"
      ]
     },
     "metadata": {},
     "output_type": "display_data"
    },
    {
     "data": {
      "application/vnd.jupyter.widget-view+json": {
       "model_id": "f7e76a409fc0495b965d43482d15c4d0",
       "version_major": 2,
       "version_minor": 0
      },
      "text/plain": [
       "Evaluating Train Set:   0%|          | 0/176 [00:00<?, ?it/s]"
      ]
     },
     "metadata": {},
     "output_type": "display_data"
    },
    {
     "data": {
      "application/vnd.jupyter.widget-view+json": {
       "model_id": "3b9ec36812204e53a2833955b1c14224",
       "version_major": 2,
       "version_minor": 0
      },
      "text/plain": [
       "Evaluating Validation Set:   0%|          | 0/20 [00:00<?, ?it/s]"
      ]
     },
     "metadata": {},
     "output_type": "display_data"
    },
    {
     "data": {
      "application/vnd.jupyter.widget-view+json": {
       "model_id": "25afdd6629404ba9a9fd95158eb5b49f",
       "version_major": 2,
       "version_minor": 0
      },
      "text/plain": [
       "Training:   0%|          | 0/176 [00:00<?, ?it/s]"
      ]
     },
     "metadata": {},
     "output_type": "display_data"
    },
    {
     "data": {
      "application/vnd.jupyter.widget-view+json": {
       "model_id": "771604c591c8413dadcc7c83d554ece3",
       "version_major": 2,
       "version_minor": 0
      },
      "text/plain": [
       "Evaluating Train Set:   0%|          | 0/176 [00:00<?, ?it/s]"
      ]
     },
     "metadata": {},
     "output_type": "display_data"
    },
    {
     "data": {
      "application/vnd.jupyter.widget-view+json": {
       "model_id": "38e5da52b36c47f1ab84239ca11e1939",
       "version_major": 2,
       "version_minor": 0
      },
      "text/plain": [
       "Evaluating Validation Set:   0%|          | 0/20 [00:00<?, ?it/s]"
      ]
     },
     "metadata": {},
     "output_type": "display_data"
    },
    {
     "data": {
      "application/vnd.jupyter.widget-view+json": {
       "model_id": "fc3d9eca4ff547139ab8a66d225a1b96",
       "version_major": 2,
       "version_minor": 0
      },
      "text/plain": [
       "Training:   0%|          | 0/176 [00:00<?, ?it/s]"
      ]
     },
     "metadata": {},
     "output_type": "display_data"
    },
    {
     "data": {
      "application/vnd.jupyter.widget-view+json": {
       "model_id": "fdbb64c170804ae4977760dc79bf71bc",
       "version_major": 2,
       "version_minor": 0
      },
      "text/plain": [
       "Evaluating Train Set:   0%|          | 0/176 [00:00<?, ?it/s]"
      ]
     },
     "metadata": {},
     "output_type": "display_data"
    },
    {
     "data": {
      "application/vnd.jupyter.widget-view+json": {
       "model_id": "ece095c2b2be44bda624c10b3f6a7772",
       "version_major": 2,
       "version_minor": 0
      },
      "text/plain": [
       "Evaluating Validation Set:   0%|          | 0/20 [00:00<?, ?it/s]"
      ]
     },
     "metadata": {},
     "output_type": "display_data"
    },
    {
     "data": {
      "application/vnd.jupyter.widget-view+json": {
       "model_id": "7009b52ce5674f2ea29f9e5b2fd3064e",
       "version_major": 2,
       "version_minor": 0
      },
      "text/plain": [
       "Training:   0%|          | 0/176 [00:00<?, ?it/s]"
      ]
     },
     "metadata": {},
     "output_type": "display_data"
    },
    {
     "data": {
      "application/vnd.jupyter.widget-view+json": {
       "model_id": "fcf62d4d77174ff19e7be62ff89d865b",
       "version_major": 2,
       "version_minor": 0
      },
      "text/plain": [
       "Evaluating Train Set:   0%|          | 0/176 [00:00<?, ?it/s]"
      ]
     },
     "metadata": {},
     "output_type": "display_data"
    },
    {
     "data": {
      "application/vnd.jupyter.widget-view+json": {
       "model_id": "77a42009b76b4609b52a08e91499a92f",
       "version_major": 2,
       "version_minor": 0
      },
      "text/plain": [
       "Evaluating Validation Set:   0%|          | 0/20 [00:00<?, ?it/s]"
      ]
     },
     "metadata": {},
     "output_type": "display_data"
    },
    {
     "data": {
      "application/vnd.jupyter.widget-view+json": {
       "model_id": "e892188edd134d27887d2a93187bacba",
       "version_major": 2,
       "version_minor": 0
      },
      "text/plain": [
       "Training:   0%|          | 0/176 [00:00<?, ?it/s]"
      ]
     },
     "metadata": {},
     "output_type": "display_data"
    },
    {
     "data": {
      "application/vnd.jupyter.widget-view+json": {
       "model_id": "749034c7d227440eb411a447b601169d",
       "version_major": 2,
       "version_minor": 0
      },
      "text/plain": [
       "Evaluating Train Set:   0%|          | 0/176 [00:00<?, ?it/s]"
      ]
     },
     "metadata": {},
     "output_type": "display_data"
    },
    {
     "data": {
      "application/vnd.jupyter.widget-view+json": {
       "model_id": "787cc914b1fe40109c7817f01924f199",
       "version_major": 2,
       "version_minor": 0
      },
      "text/plain": [
       "Evaluating Validation Set:   0%|          | 0/20 [00:00<?, ?it/s]"
      ]
     },
     "metadata": {},
     "output_type": "display_data"
    },
    {
     "data": {
      "application/vnd.jupyter.widget-view+json": {
       "model_id": "d1bee88bb9b148e1bf0aacdd16d50c50",
       "version_major": 2,
       "version_minor": 0
      },
      "text/plain": [
       "Training:   0%|          | 0/176 [00:00<?, ?it/s]"
      ]
     },
     "metadata": {},
     "output_type": "display_data"
    },
    {
     "data": {
      "application/vnd.jupyter.widget-view+json": {
       "model_id": "b3e39ea607bd4725864144cb4ad2c502",
       "version_major": 2,
       "version_minor": 0
      },
      "text/plain": [
       "Evaluating Train Set:   0%|          | 0/176 [00:00<?, ?it/s]"
      ]
     },
     "metadata": {},
     "output_type": "display_data"
    },
    {
     "data": {
      "application/vnd.jupyter.widget-view+json": {
       "model_id": "fb0894c2f2b64d05854af79a512a7576",
       "version_major": 2,
       "version_minor": 0
      },
      "text/plain": [
       "Evaluating Validation Set:   0%|          | 0/20 [00:00<?, ?it/s]"
      ]
     },
     "metadata": {},
     "output_type": "display_data"
    },
    {
     "data": {
      "application/vnd.jupyter.widget-view+json": {
       "model_id": "2433396812594728a342c1e5087f2d48",
       "version_major": 2,
       "version_minor": 0
      },
      "text/plain": [
       "Training:   0%|          | 0/176 [00:00<?, ?it/s]"
      ]
     },
     "metadata": {},
     "output_type": "display_data"
    },
    {
     "data": {
      "application/vnd.jupyter.widget-view+json": {
       "model_id": "954e08cfbccf47ae8d96fbc467d921d8",
       "version_major": 2,
       "version_minor": 0
      },
      "text/plain": [
       "Evaluating Train Set:   0%|          | 0/176 [00:00<?, ?it/s]"
      ]
     },
     "metadata": {},
     "output_type": "display_data"
    },
    {
     "data": {
      "application/vnd.jupyter.widget-view+json": {
       "model_id": "f2501600131d4b0a9a5e77b47564b104",
       "version_major": 2,
       "version_minor": 0
      },
      "text/plain": [
       "Evaluating Validation Set:   0%|          | 0/20 [00:00<?, ?it/s]"
      ]
     },
     "metadata": {},
     "output_type": "display_data"
    },
    {
     "data": {
      "application/vnd.jupyter.widget-view+json": {
       "model_id": "73ec3cdea73f4fd3bd9dafbce6142cd6",
       "version_major": 2,
       "version_minor": 0
      },
      "text/plain": [
       "Training:   0%|          | 0/176 [00:00<?, ?it/s]"
      ]
     },
     "metadata": {},
     "output_type": "display_data"
    },
    {
     "data": {
      "application/vnd.jupyter.widget-view+json": {
       "model_id": "dfda81496dd242fdb15e3c16a3ea86e4",
       "version_major": 2,
       "version_minor": 0
      },
      "text/plain": [
       "Evaluating Train Set:   0%|          | 0/176 [00:00<?, ?it/s]"
      ]
     },
     "metadata": {},
     "output_type": "display_data"
    },
    {
     "data": {
      "application/vnd.jupyter.widget-view+json": {
       "model_id": "ae86b2107f4440e9973ef4bd5b49f3dd",
       "version_major": 2,
       "version_minor": 0
      },
      "text/plain": [
       "Evaluating Validation Set:   0%|          | 0/20 [00:00<?, ?it/s]"
      ]
     },
     "metadata": {},
     "output_type": "display_data"
    },
    {
     "data": {
      "application/vnd.jupyter.widget-view+json": {
       "model_id": "a87b2390f8da42ff82e7d3344040ec9c",
       "version_major": 2,
       "version_minor": 0
      },
      "text/plain": [
       "Training:   0%|          | 0/176 [00:00<?, ?it/s]"
      ]
     },
     "metadata": {},
     "output_type": "display_data"
    },
    {
     "data": {
      "application/vnd.jupyter.widget-view+json": {
       "model_id": "2be3e33de37143649638b663ecb37eb3",
       "version_major": 2,
       "version_minor": 0
      },
      "text/plain": [
       "Evaluating Train Set:   0%|          | 0/176 [00:00<?, ?it/s]"
      ]
     },
     "metadata": {},
     "output_type": "display_data"
    },
    {
     "data": {
      "application/vnd.jupyter.widget-view+json": {
       "model_id": "e69d9b20b36e48bca92633215c150fc0",
       "version_major": 2,
       "version_minor": 0
      },
      "text/plain": [
       "Evaluating Validation Set:   0%|          | 0/20 [00:00<?, ?it/s]"
      ]
     },
     "metadata": {},
     "output_type": "display_data"
    }
   ],
   "source": [
    "# This cell implements our training loop\n",
    "# Record the start time\n",
    "start_time = time.time()\n",
    "\n",
    "pbar = trange(model_trainer.start_epoch, num_epochs, leave=False, desc=\"Epoch\")    \n",
    "for epoch in pbar:\n",
    "    pbar.set_postfix_str('Accuracy: Train %.2f%%, Val %.2f%%' % (train_acc * 100, valid_acc * 100))\n",
    "    \n",
    "    # Call the training function and pass training dataloader etc\n",
    "    model_trainer.train_model()\n",
    "    \n",
    "    # Call the modules evaluate function for train and validation set\n",
    "    train_acc = model_trainer.evaluate_model(train_test_val=\"train\")\n",
    "    valid_acc = model_trainer.evaluate_model(train_test_val=\"val\")\n",
    "    \n",
    "    # Check if the current validation accuracy is greater than the previous best\n",
    "    # If so, then save the model\n",
    "    if valid_acc > model_trainer.best_valid_acc:\n",
    "        model_trainer.save_checkpoint(epoch, valid_acc)\n",
    "\n",
    "end_time = time.time()"
   ]
  },
  {
   "cell_type": "code",
   "execution_count": 23,
   "metadata": {},
   "outputs": [
    {
     "name": "stdout",
     "output_type": "stream",
     "text": [
      "The highest validation accuracy was 69.16%\n"
     ]
    }
   ],
   "source": [
    "print(\"The highest validation accuracy was %.2f%%\" %(model_trainer.best_valid_acc*100))"
   ]
  },
  {
   "cell_type": "code",
   "execution_count": 24,
   "metadata": {},
   "outputs": [
    {
     "name": "stdout",
     "output_type": "stream",
     "text": [
      "Training time 1342.38 seconds\n"
     ]
    }
   ],
   "source": [
    "print(\"Training time %.2f seconds\" %(end_time - start_time))"
   ]
  },
  {
   "cell_type": "code",
   "execution_count": 25,
   "metadata": {},
   "outputs": [
    {
     "data": {
      "image/png": "[encoded data removed]",
      "text/plain": [
       "<Figure size 1000x500 with 1 Axes>"
      ]
     },
     "metadata": {},
     "output_type": "display_data"
    }
   ],
   "source": [
    "_ = plt.figure(figsize = (10, 5))\n",
    "train_x = np.linspace(0, num_epochs, len(model_trainer.train_loss_logger))\n",
    "_ = plt.plot(train_x, model_trainer.train_loss_logger)\n",
    "_ = plt.title(\"Training Loss\")"
   ]
  },
  {
   "cell_type": "code",
   "execution_count": 26,
   "metadata": {},
   "outputs": [
    {
     "data": {
      "image/png": "[encoded data removed]",
      "text/plain": [
       "<Figure size 1000x500 with 1 Axes>"
      ]
     },
     "metadata": {},
     "output_type": "display_data"
    }
   ],
   "source": [
    "_ = plt.figure(figsize = (10,5))\n",
    "train_x = np.linspace(0, num_epochs, len(model_trainer.train_acc_logger))\n",
    "_ = plt.plot(train_x, model_trainer.train_acc_logger, c = \"y\")\n",
    "valid_x = np.linspace(0, num_epochs, len(model_trainer.val_acc_logger))\n",
    "_ = plt.plot(valid_x, model_trainer.val_acc_logger, c = \"k\")\n",
    "\n",
    "_ = plt.title(\"Accuracy\")\n",
    "_ = plt.legend([\"Training accuracy\", \"Validation accuracy\"])"
   ]
  },
  {
   "cell_type": "markdown",
   "metadata": {},
   "source": [
    "# Evaluate"
   ]
  },
  {
   "cell_type": "code",
   "execution_count": 27,
   "metadata": {},
   "outputs": [
    {
     "data": {
      "application/vnd.jupyter.widget-view+json": {
       "model_id": "42ff68a06b9d4ac59f43ed89c27f48d9",
       "version_major": 2,
       "version_minor": 0
      },
      "text/plain": [
       "Evaluating Test Set:   0%|          | 0/40 [00:00<?, ?it/s]"
      ]
     },
     "metadata": {},
     "output_type": "display_data"
    },
    {
     "name": "stdout",
     "output_type": "stream",
     "text": [
      "The Test Accuracy is: 68.33%\n"
     ]
    }
   ],
   "source": [
    "# Call the evaluate function and pass the evaluation/test dataloader etc\n",
    "test_acc = model_trainer.evaluate_model(train_test_val=\"test\")\n",
    "print(\"The Test Accuracy is: %.2f%%\" %(test_acc*100))"
   ]
  }
 ],
 "metadata": {
  "kernelspec": {
   "display_name": "ai_venv",
   "language": "python",
   "name": "python3"
  },
  "language_info": {
   "codemirror_mode": {
    "name": "ipython",
    "version": 3
   },
   "file_extension": ".py",
   "mimetype": "text/x-python",
   "name": "python",
   "nbconvert_exporter": "python",
   "pygments_lexer": "ipython3",
   "version": "3.13.1"
  }
 },
 "nbformat": 4,
 "nbformat_minor": 2
}
