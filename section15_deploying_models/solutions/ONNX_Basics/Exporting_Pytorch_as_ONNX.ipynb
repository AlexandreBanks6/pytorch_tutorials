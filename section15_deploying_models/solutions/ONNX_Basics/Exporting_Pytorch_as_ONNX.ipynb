{
 "cells": [
  {
   "cell_type": "code",
   "execution_count": null,
   "id": "1aa6808e",
   "metadata": {},
   "outputs": [],
   "source": [
    "import torch\n",
    "import torch.nn as nn\n",
    "import torchvision.models as models\n",
    "import numpy as np\n",
    "\n",
    "# Load the pre-trained efficientnet_b1 model\n",
    "res_net = models.efficientnet_b1(weights=\"IMAGENET1K_V2\")\n",
    "\n",
    "res_net.eval()\n",
    " \n",
    "# Generate a random input tensor\n",
    "test_input = torch.randn(1, 3, 244, 244)\n",
    "\n",
    "# Export the model to ONNX format\n",
    "torch.onnx.export(\n",
    "    res_net,\n",
    "    test_input,\n",
    "    \"efficientnet_b1.onnx\",\n",
    "    opset_version=12,\n",
    "    export_params=True,\n",
    "    do_constant_folding=True,\n",
    "    input_names=['input'],\n",
    "    output_names=['output'],\n",
    "    dynamic_axes={'input' : {0 : 'batch_size'},\n",
    "                  'output' : {0 : 'batch_size'}}\n",
    ")"
   ]
  }
 ],
 "metadata": {
  "kernelspec": {
   "display_name": "Python 3 (ipykernel)",
   "language": "python",
   "name": "python3"
  },
  "language_info": {
   "codemirror_mode": {
    "name": "ipython",
    "version": 3
   },
   "file_extension": ".py",
   "mimetype": "text/x-python",
   "name": "python",
   "nbconvert_exporter": "python",
   "pygments_lexer": "ipython3",
   "version": "3.9.16"
  }
 },
 "nbformat": 4,
 "nbformat_minor": 5
}
