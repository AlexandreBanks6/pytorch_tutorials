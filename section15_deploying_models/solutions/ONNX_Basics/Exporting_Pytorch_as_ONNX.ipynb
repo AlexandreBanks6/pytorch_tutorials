{
 "cells": [
  {
   "cell_type": "markdown",
   "id": "a00a74cc",
   "metadata": {},
   "source": [
    "# Converting a Pytorch Model to ONNX"
   ]
  },
  {
   "cell_type": "code",
   "execution_count": null,
   "id": "1aa6808e",
   "metadata": {},
   "outputs": [],
   "source": [
    "import torch\n",
    "import torch.nn as nn\n",
    "import torchvision.models as models\n",
    "import torchvision.transforms as transforms\n",
    "\n",
    "import numpy as np\n",
    "from PIL import Image\n",
    "import time"
   ]
  },
  {
   "cell_type": "code",
   "execution_count": null,
   "id": "7bc488ec",
   "metadata": {},
   "outputs": [],
   "source": [
    "transform = transforms.Compose([transforms.Resize(224),\n",
    "                                transforms.CenterCrop(224),\n",
    "                                transforms.ToTensor(),\n",
    "                                transforms.Normalize(mean=[0.485, 0.456, 0.406],\n",
    "                                                     std=[0.229, 0.224, 0.225])]) \n",
    "\n",
    "device = torch.device(0 if torch.cuda.is_available() else 'cpu')"
   ]
  },
  {
   "cell_type": "code",
   "execution_count": null,
   "id": "f2a0df51",
   "metadata": {},
   "outputs": [],
   "source": [
    "# Load the pre-trained efficientnet_b1 model\n",
    "res_net = models.efficientnet_b1(weights=\"IMAGENET1K_V2\").to(device)\n",
    "res_net.eval()"
   ]
  },
  {
   "cell_type": "markdown",
   "id": "35bf71fe",
   "metadata": {},
   "source": [
    "## How fast is inference?"
   ]
  },
  {
   "cell_type": "code",
   "execution_count": null,
   "id": "823f7de8",
   "metadata": {},
   "outputs": [],
   "source": [
    "test_image = Image.open(\"../../data/dog.jpg\")\n",
    "test_image.resize((256, 256))"
   ]
  },
  {
   "cell_type": "code",
   "execution_count": null,
   "id": "23804841",
   "metadata": {},
   "outputs": [],
   "source": [
    "# Convert to tensor\n",
    "tensor_image = transform(test_image).unsqueeze(0)"
   ]
  },
  {
   "cell_type": "code",
   "execution_count": null,
   "id": "6cdfd7fc",
   "metadata": {},
   "outputs": [],
   "source": [
    "inference_time = []\n",
    "with torch.no_grad():\n",
    "    for _ in range(10):\n",
    "        start_time = time.time()\n",
    "        out_put = res_net(tensor_image.to(device))\n",
    "        end_time = time.time()\n",
    "        inference_time.append(end_time - start_time)\n",
    "    \n",
    "print(\"Minimum inference time %.4fs\" % np.min(inference_time))"
   ]
  },
  {
   "cell_type": "markdown",
   "id": "7ae85284",
   "metadata": {},
   "source": [
    "## Convert to ONNX"
   ]
  },
  {
   "cell_type": "code",
   "execution_count": null,
   "id": "ae16c9f9",
   "metadata": {},
   "outputs": [],
   "source": [
    " # Generate a random input tensor\n",
    "test_input = torch.randn(1, 3, 224, 224, device=device)\n",
    "\n",
    "# Export the model to ONNX format\n",
    "torch.onnx.export(\n",
    "    res_net,\n",
    "    test_input,\n",
    "    \"efficientnet_b1.onnx\",\n",
    "    opset_version=12,\n",
    "    export_params=True,\n",
    "    do_constant_folding=True,\n",
    "    input_names=['input'],\n",
    "    output_names=['output'],\n",
    "    dynamic_axes={'input' : {0 : 'batch_size'},\n",
    "                  'output' : {0 : 'batch_size'}}\n",
    ")"
   ]
  }
 ],
 "metadata": {
  "kernelspec": {
   "display_name": "Python 3 (ipykernel)",
   "language": "python",
   "name": "python3"
  },
  "language_info": {
   "codemirror_mode": {
    "name": "ipython",
    "version": 3
   },
   "file_extension": ".py",
   "mimetype": "text/x-python",
   "name": "python",
   "nbconvert_exporter": "python",
   "pygments_lexer": "ipython3",
   "version": "3.9.16"
  }
 },
 "nbformat": 4,
 "nbformat_minor": 5
}
